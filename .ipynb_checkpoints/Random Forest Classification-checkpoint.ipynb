{
 "cells": [
  {
   "cell_type": "markdown",
   "metadata": {},
   "source": [
    "A random forest is a composistion of decision trees. A decision tree is what it sounds like. Each node can be split into further nodes based on some criteria. Ideally each leaf node would give certainty about the catagory of the dependent variable.\n",
    "\n",
    "We will start by creating an algorithm for training decision trees. First we will generate some test data. Let there be three different categories: A, B and C. These are distributed based on the continuous variables x and y. Let them be bivariate normally distributed as such:\n",
    "\n",
    "A ~ N(u_A,o_A)\n",
    "\n",
    "B ~ N(u_B,o_B)\n",
    "\n",
    "C ~ N(u_C,o_C)\n",
    "\n",
    "Where u_i is a two-dimensional vector representing the mean and o_i is the covariance matrix. Both of category i. For simplicicty I will assume x and y are independent draws, i.e. the covariance between x and y is zero. Thus the x and y coordinate can be independetly drawn from a normal distribution.\n",
    "\n",
    "I'm assuming each category has a probability of being generated: f_i. With F_A + F_B + F_C = 1.\n",
    "\n",
    "Of course, other ways of gernerating test data are possible. Or other data sets can be used that are generated in an unknown manner."
   ]
  },
  {
   "cell_type": "code",
   "execution_count": 1,
   "metadata": {},
   "outputs": [],
   "source": [
    "import numpy as np\n",
    "import random\n",
    "import pandas as pd"
   ]
  },
  {
   "cell_type": "code",
   "execution_count": 2,
   "metadata": {},
   "outputs": [],
   "source": [
    "#Number of draws\n",
    "N = 100\n",
    "\n",
    "#categories\n",
    "cat = ['A', 'B', 'C']\n",
    "\n",
    "# frequencies of categories\n",
    "F_A = .2\n",
    "F_B = .5\n",
    "F_C = .3\n",
    "F = [F_A, F_B, F_C]\n",
    "\n",
    "#means\n",
    "u_A = [1,3]\n",
    "u_B = [5,3]\n",
    "u_C = [2,-5]\n",
    "u=[u_A, u_B, u_C]\n",
    "\n",
    "#standard deviations\n",
    "o_A = [1,1]\n",
    "o_B = [1,1]\n",
    "o_C = [1,1]\n",
    "o=[o_A, o_B, o_C]\n",
    "\n",
    "#dictionary\n",
    "Pdict = {\"A\":0,\"B\":1,\"C\":2}"
   ]
  },
  {
   "cell_type": "code",
   "execution_count": 3,
   "metadata": {},
   "outputs": [],
   "source": [
    "#Function for randomly generating / drawing a category\n",
    "\n",
    "def draw_cat(F):\n",
    "    r = random.uniform(0,1)\n",
    "    for i in range(len(F)):\n",
    "        if r < np.cumsum(F)[i]:\n",
    "            c = cat[i]\n",
    "            break\n",
    "    return c"
   ]
  },
  {
   "cell_type": "code",
   "execution_count": 4,
   "metadata": {},
   "outputs": [],
   "source": [
    "df = pd.DataFrame([], columns = ['x', 'y','category']) \n",
    "\n",
    "for i in range(100):\n",
    "    draw = draw_cat(F)\n",
    "    mean = u[Pdict[draw]]\n",
    "    sigma = o[Pdict[draw]]\n",
    "    x = np.random.normal(mean[0],sigma[0])\n",
    "    y = np.random.normal(mean[1],sigma[1])\n",
    "    df.loc[i] = [x,y,draw]\n",
    "\n"
   ]
  },
  {
   "cell_type": "code",
   "execution_count": 5,
   "metadata": {},
   "outputs": [
    {
     "data": {
      "text/html": [
       "<div>\n",
       "<style scoped>\n",
       "    .dataframe tbody tr th:only-of-type {\n",
       "        vertical-align: middle;\n",
       "    }\n",
       "\n",
       "    .dataframe tbody tr th {\n",
       "        vertical-align: top;\n",
       "    }\n",
       "\n",
       "    .dataframe thead th {\n",
       "        text-align: right;\n",
       "    }\n",
       "</style>\n",
       "<table border=\"1\" class=\"dataframe\">\n",
       "  <thead>\n",
       "    <tr style=\"text-align: right;\">\n",
       "      <th></th>\n",
       "      <th>x</th>\n",
       "      <th>y</th>\n",
       "      <th>category</th>\n",
       "    </tr>\n",
       "  </thead>\n",
       "  <tbody>\n",
       "    <tr>\n",
       "      <th>0</th>\n",
       "      <td>4.445806</td>\n",
       "      <td>3.510305</td>\n",
       "      <td>B</td>\n",
       "    </tr>\n",
       "    <tr>\n",
       "      <th>1</th>\n",
       "      <td>2.046024</td>\n",
       "      <td>4.135635</td>\n",
       "      <td>A</td>\n",
       "    </tr>\n",
       "    <tr>\n",
       "      <th>2</th>\n",
       "      <td>5.190482</td>\n",
       "      <td>3.427339</td>\n",
       "      <td>B</td>\n",
       "    </tr>\n",
       "    <tr>\n",
       "      <th>3</th>\n",
       "      <td>6.107102</td>\n",
       "      <td>3.758160</td>\n",
       "      <td>B</td>\n",
       "    </tr>\n",
       "    <tr>\n",
       "      <th>4</th>\n",
       "      <td>5.889657</td>\n",
       "      <td>3.206522</td>\n",
       "      <td>B</td>\n",
       "    </tr>\n",
       "  </tbody>\n",
       "</table>\n",
       "</div>"
      ],
      "text/plain": [
       "          x         y category\n",
       "0  4.445806  3.510305        B\n",
       "1  2.046024  4.135635        A\n",
       "2  5.190482  3.427339        B\n",
       "3  6.107102  3.758160        B\n",
       "4  5.889657  3.206522        B"
      ]
     },
     "execution_count": 5,
     "metadata": {},
     "output_type": "execute_result"
    }
   ],
   "source": [
    "df.head()"
   ]
  },
  {
   "cell_type": "code",
   "execution_count": 6,
   "metadata": {},
   "outputs": [],
   "source": [
    "import matplotlib.pyplot as plt\n",
    "import seaborn as sns\n",
    "%matplotlib inline"
   ]
  },
  {
   "cell_type": "code",
   "execution_count": 7,
   "metadata": {},
   "outputs": [
    {
     "data": {
      "image/png": "[encoded data removed]",
      "text/plain": [
       "<Figure size 412x360 with 1 Axes>"
      ]
     },
     "metadata": {
      "needs_background": "light"
     },
     "output_type": "display_data"
    }
   ],
   "source": [
    "vis = sns.lmplot(data = df, x= 'x',y = 'y' , fit_reg=False , hue = 'category')"
   ]
  },
  {
   "cell_type": "markdown",
   "metadata": {},
   "source": [
    "To start we'll try making a regular decision tree. Decisions will be restricted to the type x<=.. , y<=.. There will be no restrictions on the depth of the tree. \n",
    "\n",
    "At each node the optimal decision will be assigned. Based on either of these 2 metrics:\n",
    "\n",
    "1. Gini Imputity (https://victorzhou.com/blog/gini-impurity/)\n",
    "\n",
    "If we have C total classes and p(i) is the probability of picking a datapoint with class i, then the Gini Impurity is calculated as\n",
    "\n",
    "G = \\sum_{i=1}^C  p(i) * (1 - p(i))\n",
    "\n",
    "Where G  is calculated for a certain branch. We’ll determine the quality of a split by weighting the impurity of each branch by how many elements it has.\n",
    "\n",
    "2. Information gain\n",
    "\n",
    "<<To be added later.>>"
   ]
  },
  {
   "cell_type": "code",
   "execution_count": 8,
   "metadata": {},
   "outputs": [],
   "source": [
    "#Function for calculating the Gini Impurity\n",
    "\n",
    "def GiniImpurity (values):\n",
    "    values = list(values)\n",
    "    GiniImp = 0\n",
    "    cat = np.unique(values)\n",
    "    total = len(values)\n",
    "    for i in cat:\n",
    "        p_i = values.count(i)/total\n",
    "        GiniImp = GiniImp + p_i * (1-p_i)\n",
    "    return(GiniImp)"
   ]
  },
  {
   "cell_type": "code",
   "execution_count": 9,
   "metadata": {},
   "outputs": [
    {
     "data": {
      "text/plain": [
       "0.6294"
      ]
     },
     "execution_count": 9,
     "metadata": {},
     "output_type": "execute_result"
    }
   ],
   "source": [
    "GiniImpurity(df['category'])"
   ]
  },
  {
   "cell_type": "code",
   "execution_count": 70,
   "metadata": {},
   "outputs": [],
   "source": [
    "#Function for finding the best possible split. Return the variable v (x or y), threshold h: v<=h and gini impurity for split v<=h.\n",
    "\n",
    "def FindBestSplit (data):\n",
    "    nr_of_data_points = len(data)\n",
    "    \n",
    "    #create lists of category sorted by x or y\n",
    "    sortbyx = list(data.sort_values('x')['category'])\n",
    "    sortbyy = list(data.sort_values('y')['category'])\n",
    "    \n",
    "    #create sorted lists of x,y variables\n",
    "    x_sorted = list(data.sort_values('x')['x'])\n",
    "    y_sorted = list(data.sort_values('y')['y'])\n",
    "\n",
    "    WeightedGiniImpurityX = []\n",
    "    for i in range(1,nr_of_data_points):\n",
    "        A = sortbyx[0:i]\n",
    "        B = sortbyx[i:nr_of_data_points]\n",
    "        WeightedGiniImpurity = (GiniImpurity(A) * len(A) + GiniImpurity(B) * len(B))/nr_of_data_points\n",
    "        WeightedGiniImpurityX.append(WeightedGiniImpurity)\n",
    "\n",
    "        \n",
    "    WeightedGiniImpurityY = []\n",
    "    for i in range(1,nr_of_data_points):\n",
    "        A = sortbyy[0:i]\n",
    "        B = sortbyy[i:nr_of_data_points]\n",
    "        WeightedGiniImpurity = (GiniImpurity(A) * len(A) + GiniImpurity(B) * len(B))/nr_of_data_points\n",
    "        WeightedGiniImpurityY.append(WeightedGiniImpurity)\n",
    "        \n",
    "    WeightedGiniImpurityX = np.asarray(WeightedGiniImpurityX)\n",
    "    WeightedGiniImpurityY = np.asarray(WeightedGiniImpurityY)\n",
    "    \n",
    "    argmin_x = WeightedGiniImpurityX.argmin()\n",
    "    argmin_y = WeightedGiniImpurityY.argmin()\n",
    "    \n",
    "    MinGiniX = WeightedGiniImpurityX[argmin_x]\n",
    "    MinGiniY = WeightedGiniImpurityY[argmin_y]\n",
    "    \n",
    "    best_x = x_sorted[argmin_x]\n",
    "    best_y = y_sorted[argmin_y]\n",
    "    \n",
    "    if (MinGiniY <= MinGiniX):\n",
    "        return(['y',best_y,MinGiniY])\n",
    "    else:\n",
    "        return(['x',best_x,MinGiniX])\n",
    "    "
   ]
  },
  {
   "cell_type": "code",
   "execution_count": 71,
   "metadata": {},
   "outputs": [
    {
     "name": "stdout",
     "output_type": "stream",
     "text": [
      "['y', -3.2282077057133964, 0.29217391304347823]\n"
     ]
    }
   ],
   "source": [
    "split0 = FindBestSplit(df)\n",
    "print(split0)\n",
    "df0 = df[df[split0[0]] <= split0[1]]\n",
    "df1 = df[df[split0[0]] > split0[1]]\n"
   ]
  },
  {
   "cell_type": "code",
   "execution_count": 72,
   "metadata": {},
   "outputs": [
    {
     "name": "stdout",
     "output_type": "stream",
     "text": [
      "['y', -6.594982026469611, 0.0]\n"
     ]
    }
   ],
   "source": [
    "split00 = FindBestSplit(df0)\n",
    "print(split00)\n",
    "df00 = df0[df0[split00[0]] <= split00[1]]\n",
    "df01 = df0[df0[split00[0]] > split00[1]]"
   ]
  },
  {
   "cell_type": "code",
   "execution_count": 73,
   "metadata": {},
   "outputs": [
    {
     "name": "stdout",
     "output_type": "stream",
     "text": [
      "['x', 2.123210899088442, 0.02839396628216505]\n"
     ]
    }
   ],
   "source": [
    "split01 = FindBestSplit(df1)\n",
    "print(split01)\n",
    "df10 = df1[df1[split01[0]] <= split01[1]]\n",
    "df11 = df1[df1[split01[0]] > split01[1]]"
   ]
  },
  {
   "cell_type": "code",
   "execution_count": 74,
   "metadata": {},
   "outputs": [
    {
     "name": "stdout",
     "output_type": "stream",
     "text": [
      "['x', 3.0338117082477574, 0.0272108843537415]\n"
     ]
    }
   ],
   "source": [
    "split011 = FindBestSplit(df11)\n",
    "print(split011)\n",
    "df100 = df11[df11[split011[0]] <= split011[1]]\n",
    "df111 = df11[df11[split011[0]] > split011[1]]"
   ]
  },
  {
   "cell_type": "code",
   "execution_count": 77,
   "metadata": {},
   "outputs": [],
   "source": [
    "def split (data):\n",
    "    if len(data.category.value_counts()) ==1:\n",
    "        print('ok')\n",
    "        return\n",
    "    elif len(data) == 0:\n",
    "        print('weird')\n",
    "        return\n",
    "    else:\n",
    "        bestSplit = FindBestSplit(data)\n",
    "        print(bestSplit)\n",
    "        left = data[data[bestSplit[0]] <= bestSplit[1]]\n",
    "        print(left)\n",
    "        split(left)\n",
    "        right = data[data[bestSplit[0]] > bestSplit[1]]\n",
    "        print(right)\n",
    "        split(right)\n",
    "    "
   ]
  },
  {
   "cell_type": "code",
   "execution_count": 32,
   "metadata": {},
   "outputs": [],
   "source": [
    "if len(df.category.value_counts()) ==1:\n",
    "    print('ok')\n",
    "    return\n",
    "else:\n",
    "    bestSplit = FindBestSplit(df)\n",
    "    left = df[df[bestSplit[0]] <= bestSplit[1]]\n",
    "    right = df[df[bestSplit[0]] > bestSplit[1]]"
   ]
  },
  {
   "cell_type": "code",
   "execution_count": 78,
   "metadata": {},
   "outputs": [
    {
     "name": "stdout",
     "output_type": "stream",
     "text": [
      "['y', -3.2282077057133964, 0.29217391304347823]\n",
      "           x         y category\n",
      "5   1.306289 -6.119042        C\n",
      "7   2.578093 -5.082720        C\n",
      "11  2.097227 -4.775196        C\n",
      "14  1.999991 -5.166603        C\n",
      "20  1.413193 -4.720115        C\n",
      "27  2.723786 -5.449290        C\n",
      "28  3.342137 -5.586120        C\n",
      "29  3.008717 -5.161897        C\n",
      "34  0.462545 -4.236159        C\n",
      "37  1.635497 -4.541465        C\n",
      "38  1.900255 -5.721899        C\n",
      "39  2.171192 -3.228208        C\n",
      "41  2.420858 -3.235743        C\n",
      "42  1.348162 -4.312140        C\n",
      "53  2.431846 -4.727183        C\n",
      "56  1.501813 -5.426528        C\n",
      "58 -0.528766 -5.384502        C\n",
      "60  1.420843 -5.677173        C\n",
      "65  1.340461 -5.925953        C\n",
      "66  3.387940 -4.310048        C\n",
      "67  3.250485 -4.510520        C\n",
      "70  1.685263 -6.594982        C\n",
      "75  2.239860 -3.484571        C\n",
      "80  2.393582 -5.231814        C\n",
      "81  2.749066 -5.310098        C\n",
      "82  1.246418 -5.915605        C\n",
      "86  2.238858 -3.832936        C\n",
      "94  0.680355 -4.661148        C\n",
      "95  1.501598 -5.211269        C\n",
      "98  1.850310 -4.741450        C\n",
      "99  1.950660 -5.106525        C\n",
      "ok\n",
      "           x         y category\n",
      "0   4.445806  3.510305        B\n",
      "1   2.046024  4.135635        A\n",
      "2   5.190482  3.427339        B\n",
      "3   6.107102  3.758160        B\n",
      "4   5.889657  3.206522        B\n",
      "6   5.528930  2.292361        B\n",
      "8  -0.491090  4.127036        A\n",
      "9   0.753867  3.656942        A\n",
      "10  0.593676  1.433105        A\n",
      "12  1.153873  3.141115        A\n",
      "13  5.394197  3.765313        B\n",
      "15  6.069988  2.278188        B\n",
      "16  0.835028  3.983916        A\n",
      "17 -0.761558  1.317481        A\n",
      "18  4.664162  2.619901        B\n",
      "19  3.033812  2.698882        A\n",
      "21  1.479972  3.871161        A\n",
      "22  4.836582  3.407900        B\n",
      "23  5.405429  2.677419        B\n",
      "24  4.610139  4.604549        B\n",
      "25  1.539422  2.175089        A\n",
      "26  7.191173  3.578456        B\n",
      "30  5.606821  2.884397        B\n",
      "31  1.139806  2.474052        A\n",
      "32  4.445486  4.250483        B\n",
      "33  4.541633  3.989843        B\n",
      "35  5.029151  2.829896        B\n",
      "36  4.606231  3.791698        B\n",
      "40  0.551268  2.299465        A\n",
      "43  4.784822  4.048744        B\n",
      "..       ...       ...      ...\n",
      "54  4.299199  4.016553        B\n",
      "55  5.258977  1.797847        B\n",
      "57  5.229421  2.992195        B\n",
      "59  3.556936  1.125735        B\n",
      "61  6.933687  3.574680        B\n",
      "62  1.662624  3.627976        A\n",
      "63  5.913790  4.739506        B\n",
      "64  6.047135  4.195721        B\n",
      "68  3.676811  3.027582        B\n",
      "69  5.534288  1.043285        B\n",
      "71  4.224921  3.235454        B\n",
      "72  2.120553  1.950676        A\n",
      "73  4.153632  2.032157        B\n",
      "74  4.489730  3.242080        B\n",
      "76  5.877321  2.741007        B\n",
      "77  4.681508  1.721665        B\n",
      "78  1.333068  2.561047        A\n",
      "79  4.784994  1.259046        B\n",
      "83  4.782749  2.856894        B\n",
      "84  2.694535  3.729043        B\n",
      "85  1.927059  3.519920        A\n",
      "87  2.733467  2.738731        B\n",
      "88  3.152069  2.457767        B\n",
      "89  2.123211  4.523936        A\n",
      "90  5.180639  3.379807        B\n",
      "91  4.191610  1.041811        B\n",
      "92  6.742450  2.009301        B\n",
      "93  5.074163  2.733770        B\n",
      "96  3.772472  2.844553        B\n",
      "97  5.567538  1.964146        B\n",
      "\n",
      "[69 rows x 3 columns]\n",
      "['x', 2.123210899088442, 0.02839396628216505]\n",
      "           x         y category\n",
      "1   2.046024  4.135635        A\n",
      "8  -0.491090  4.127036        A\n",
      "9   0.753867  3.656942        A\n",
      "10  0.593676  1.433105        A\n",
      "12  1.153873  3.141115        A\n",
      "16  0.835028  3.983916        A\n",
      "17 -0.761558  1.317481        A\n",
      "21  1.479972  3.871161        A\n",
      "25  1.539422  2.175089        A\n",
      "31  1.139806  2.474052        A\n",
      "40  0.551268  2.299465        A\n",
      "45  0.744647  3.468842        A\n",
      "46  1.560862  2.443033        A\n",
      "48  0.201918  2.827571        A\n",
      "49  1.184089  3.749985        A\n",
      "62  1.662624  3.627976        A\n",
      "72  2.120553  1.950676        A\n",
      "78  1.333068  2.561047        A\n",
      "85  1.927059  3.519920        A\n",
      "89  2.123211  4.523936        A\n",
      "ok\n",
      "           x         y category\n",
      "0   4.445806  3.510305        B\n",
      "2   5.190482  3.427339        B\n",
      "3   6.107102  3.758160        B\n",
      "4   5.889657  3.206522        B\n",
      "6   5.528930  2.292361        B\n",
      "13  5.394197  3.765313        B\n",
      "15  6.069988  2.278188        B\n",
      "18  4.664162  2.619901        B\n",
      "19  3.033812  2.698882        A\n",
      "22  4.836582  3.407900        B\n",
      "23  5.405429  2.677419        B\n",
      "24  4.610139  4.604549        B\n",
      "26  7.191173  3.578456        B\n",
      "30  5.606821  2.884397        B\n",
      "32  4.445486  4.250483        B\n",
      "33  4.541633  3.989843        B\n",
      "35  5.029151  2.829896        B\n",
      "36  4.606231  3.791698        B\n",
      "43  4.784822  4.048744        B\n",
      "44  6.701006  3.511110        B\n",
      "47  5.165036  2.331043        B\n",
      "50  4.877098  3.961944        B\n",
      "51  3.511700  4.740519        B\n",
      "52  5.181531  4.128468        B\n",
      "54  4.299199  4.016553        B\n",
      "55  5.258977  1.797847        B\n",
      "57  5.229421  2.992195        B\n",
      "59  3.556936  1.125735        B\n",
      "61  6.933687  3.574680        B\n",
      "63  5.913790  4.739506        B\n",
      "64  6.047135  4.195721        B\n",
      "68  3.676811  3.027582        B\n",
      "69  5.534288  1.043285        B\n",
      "71  4.224921  3.235454        B\n",
      "73  4.153632  2.032157        B\n",
      "74  4.489730  3.242080        B\n",
      "76  5.877321  2.741007        B\n",
      "77  4.681508  1.721665        B\n",
      "79  4.784994  1.259046        B\n",
      "83  4.782749  2.856894        B\n",
      "84  2.694535  3.729043        B\n",
      "87  2.733467  2.738731        B\n",
      "88  3.152069  2.457767        B\n",
      "90  5.180639  3.379807        B\n",
      "91  4.191610  1.041811        B\n",
      "92  6.742450  2.009301        B\n",
      "93  5.074163  2.733770        B\n",
      "96  3.772472  2.844553        B\n",
      "97  5.567538  1.964146        B\n",
      "['x', 3.0338117082477574, 0.0272108843537415]\n",
      "           x         y category\n",
      "19  3.033812  2.698882        A\n",
      "84  2.694535  3.729043        B\n",
      "87  2.733467  2.738731        B\n",
      "['y', 2.6988819579459484, 0.0]\n",
      "           x         y category\n",
      "19  3.033812  2.698882        A\n",
      "ok\n",
      "           x         y category\n",
      "84  2.694535  3.729043        B\n",
      "87  2.733467  2.738731        B\n",
      "ok\n",
      "           x         y category\n",
      "0   4.445806  3.510305        B\n",
      "2   5.190482  3.427339        B\n",
      "3   6.107102  3.758160        B\n",
      "4   5.889657  3.206522        B\n",
      "6   5.528930  2.292361        B\n",
      "13  5.394197  3.765313        B\n",
      "15  6.069988  2.278188        B\n",
      "18  4.664162  2.619901        B\n",
      "22  4.836582  3.407900        B\n",
      "23  5.405429  2.677419        B\n",
      "24  4.610139  4.604549        B\n",
      "26  7.191173  3.578456        B\n",
      "30  5.606821  2.884397        B\n",
      "32  4.445486  4.250483        B\n",
      "33  4.541633  3.989843        B\n",
      "35  5.029151  2.829896        B\n",
      "36  4.606231  3.791698        B\n",
      "43  4.784822  4.048744        B\n",
      "44  6.701006  3.511110        B\n",
      "47  5.165036  2.331043        B\n",
      "50  4.877098  3.961944        B\n",
      "51  3.511700  4.740519        B\n",
      "52  5.181531  4.128468        B\n",
      "54  4.299199  4.016553        B\n",
      "55  5.258977  1.797847        B\n",
      "57  5.229421  2.992195        B\n",
      "59  3.556936  1.125735        B\n",
      "61  6.933687  3.574680        B\n",
      "63  5.913790  4.739506        B\n",
      "64  6.047135  4.195721        B\n",
      "68  3.676811  3.027582        B\n",
      "69  5.534288  1.043285        B\n",
      "71  4.224921  3.235454        B\n",
      "73  4.153632  2.032157        B\n",
      "74  4.489730  3.242080        B\n",
      "76  5.877321  2.741007        B\n",
      "77  4.681508  1.721665        B\n",
      "79  4.784994  1.259046        B\n",
      "83  4.782749  2.856894        B\n",
      "88  3.152069  2.457767        B\n",
      "90  5.180639  3.379807        B\n",
      "91  4.191610  1.041811        B\n",
      "92  6.742450  2.009301        B\n",
      "93  5.074163  2.733770        B\n",
      "96  3.772472  2.844553        B\n",
      "97  5.567538  1.964146        B\n",
      "ok\n"
     ]
    }
   ],
   "source": [
    "split(df)"
   ]
  },
  {
   "cell_type": "code",
   "execution_count": null,
   "metadata": {},
   "outputs": [],
   "source": []
  }
 ],
 "metadata": {
  "kernelspec": {
   "display_name": "Python 3",
   "language": "python",
   "name": "python3"
  },
  "language_info": {
   "codemirror_mode": {
    "name": "ipython",
    "version": 3
   },
   "file_extension": ".py",
   "mimetype": "text/x-python",
   "name": "python",
   "nbconvert_exporter": "python",
   "pygments_lexer": "ipython3",
   "version": "3.7.3"
  }
 },
 "nbformat": 4,
 "nbformat_minor": 2
}
