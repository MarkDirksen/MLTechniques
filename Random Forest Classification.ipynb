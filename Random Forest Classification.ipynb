{
 "cells": [
  {
   "cell_type": "markdown",
   "metadata": {},
   "source": [
    "A random forest is a composistion of decision trees. A decision tree is what it sounds like. Each node can be split into further nodes based on some criteria. Ideally each leaf node would give certainty about the catagory of the dependent variable.\n",
    "\n",
    "We will start by creating an algorithm for training decision trees. First we will generate some test data. Let there be three different categories: A, B and C. These are distributed based on the continuous variables x and y. Let them be bivariate normally distributed as such:\n",
    "\n",
    "A ~ N(u_A,o_A)\n",
    "\n",
    "B ~ N(u_B,o_B)\n",
    "\n",
    "C ~ N(u_C,o_C)\n",
    "\n",
    "Where u_i is a two-dimensional vector representing the mean and o_i is the covariance matrix. Both of category i. For simplicicty I will assume x and y are independent draws, i.e. the covariance between x and y is zero. Thus the x and y coordinate can be independetly drawn from a normal distribution.\n",
    "\n",
    "I'm assuming each category has a probability of being generated: f_i. With F_A + F_B + F_C = 1.\n",
    "\n",
    "Of course, other ways of generating test data are possible. Or other data sets can be used that are generated in an unknown manner."
   ]
  },
  {
   "cell_type": "code",
   "execution_count": 1,
   "metadata": {},
   "outputs": [],
   "source": [
    "import numpy as np\n",
    "import random\n",
    "import pandas as pd"
   ]
  },
  {
   "cell_type": "code",
   "execution_count": 2,
   "metadata": {},
   "outputs": [],
   "source": [
    "#Number of draws\n",
    "N = 100\n",
    "\n",
    "#categories\n",
    "cat = ['A', 'B', 'C']\n",
    "\n",
    "# frequencies of categories\n",
    "F_A = .2\n",
    "F_B = .5\n",
    "F_C = .3\n",
    "F = [F_A, F_B, F_C]\n",
    "\n",
    "#means\n",
    "u_A = [1,3]\n",
    "u_B = [5,3]\n",
    "u_C = [2,-5]\n",
    "u=[u_A, u_B, u_C]\n",
    "\n",
    "#standard deviations\n",
    "o_A = [1,1]\n",
    "o_B = [1,1]\n",
    "o_C = [1,1]\n",
    "o=[o_A, o_B, o_C]\n",
    "\n",
    "#dictionary\n",
    "Pdict = {\"A\":0,\"B\":1,\"C\":2}"
   ]
  },
  {
   "cell_type": "code",
   "execution_count": 3,
   "metadata": {},
   "outputs": [],
   "source": [
    "#Function for randomly generating / drawing a category\n",
    "\n",
    "def draw_cat(F):\n",
    "    r = random.uniform(0,1)\n",
    "    for i in range(len(F)):\n",
    "        if r < np.cumsum(F)[i]:\n",
    "            c = cat[i]\n",
    "            break\n",
    "    return c"
   ]
  },
  {
   "cell_type": "code",
   "execution_count": 4,
   "metadata": {},
   "outputs": [],
   "source": [
    "df = pd.DataFrame([], columns = ['x', 'y','category']) \n",
    "\n",
    "for i in range(100):\n",
    "    draw = draw_cat(F)\n",
    "    mean = u[Pdict[draw]]\n",
    "    sigma = o[Pdict[draw]]\n",
    "    x = np.random.normal(mean[0],sigma[0])\n",
    "    y = np.random.normal(mean[1],sigma[1])\n",
    "    df.loc[i] = [x,y,draw]\n",
    "\n"
   ]
  },
  {
   "cell_type": "code",
   "execution_count": 5,
   "metadata": {},
   "outputs": [
    {
     "data": {
      "text/html": [
       "<div>\n",
       "<style scoped>\n",
       "    .dataframe tbody tr th:only-of-type {\n",
       "        vertical-align: middle;\n",
       "    }\n",
       "\n",
       "    .dataframe tbody tr th {\n",
       "        vertical-align: top;\n",
       "    }\n",
       "\n",
       "    .dataframe thead th {\n",
       "        text-align: right;\n",
       "    }\n",
       "</style>\n",
       "<table border=\"1\" class=\"dataframe\">\n",
       "  <thead>\n",
       "    <tr style=\"text-align: right;\">\n",
       "      <th></th>\n",
       "      <th>x</th>\n",
       "      <th>y</th>\n",
       "      <th>category</th>\n",
       "    </tr>\n",
       "  </thead>\n",
       "  <tbody>\n",
       "    <tr>\n",
       "      <th>0</th>\n",
       "      <td>0.942693</td>\n",
       "      <td>-5.097888</td>\n",
       "      <td>C</td>\n",
       "    </tr>\n",
       "    <tr>\n",
       "      <th>1</th>\n",
       "      <td>5.347833</td>\n",
       "      <td>4.198300</td>\n",
       "      <td>B</td>\n",
       "    </tr>\n",
       "    <tr>\n",
       "      <th>2</th>\n",
       "      <td>4.505668</td>\n",
       "      <td>3.242190</td>\n",
       "      <td>B</td>\n",
       "    </tr>\n",
       "    <tr>\n",
       "      <th>3</th>\n",
       "      <td>1.363535</td>\n",
       "      <td>-5.812362</td>\n",
       "      <td>C</td>\n",
       "    </tr>\n",
       "    <tr>\n",
       "      <th>4</th>\n",
       "      <td>3.553253</td>\n",
       "      <td>4.391607</td>\n",
       "      <td>B</td>\n",
       "    </tr>\n",
       "  </tbody>\n",
       "</table>\n",
       "</div>"
      ],
      "text/plain": [
       "          x         y category\n",
       "0  0.942693 -5.097888        C\n",
       "1  5.347833  4.198300        B\n",
       "2  4.505668  3.242190        B\n",
       "3  1.363535 -5.812362        C\n",
       "4  3.553253  4.391607        B"
      ]
     },
     "execution_count": 5,
     "metadata": {},
     "output_type": "execute_result"
    }
   ],
   "source": [
    "df.head()"
   ]
  },
  {
   "cell_type": "code",
   "execution_count": 6,
   "metadata": {},
   "outputs": [],
   "source": [
    "import matplotlib.pyplot as plt\n",
    "import seaborn as sns\n",
    "%matplotlib inline"
   ]
  },
  {
   "cell_type": "code",
   "execution_count": 7,
   "metadata": {},
   "outputs": [
    {
     "data": {
      "image/png": "[encoded data removed]",
      "text/plain": [
       "<Figure size 412x360 with 1 Axes>"
      ]
     },
     "metadata": {
      "needs_background": "light"
     },
     "output_type": "display_data"
    }
   ],
   "source": [
    "vis = sns.lmplot(data = df, x= 'x',y = 'y' , fit_reg=False , hue = 'category')"
   ]
  },
  {
   "cell_type": "markdown",
   "metadata": {},
   "source": [
    "To start we'll try making a regular decision tree. Decisions will be restricted to the type x<=.. , y<=.. There will be no restrictions on the depth of the tree. \n",
    "\n",
    "At each node the optimal decision will be assigned. Based on either of these 2 metrics:\n",
    "\n",
    "1. Gini Imputity (https://victorzhou.com/blog/gini-impurity/)\n",
    "\n",
    "If we have C total classes and p(i) is the probability of picking a datapoint with class i, then the Gini Impurity is calculated as\n",
    "\n",
    "G = \\sum_{i=1}^C  p(i) * (1 - p(i))\n",
    "\n",
    "Where G  is calculated for a certain branch. We’ll determine the quality of a split by weighting the impurity of each branch by how many elements it has.\n",
    "\n",
    "2. Information gain\n",
    "\n",
    "<<To be added later.>>"
   ]
  },
  {
   "cell_type": "code",
   "execution_count": 8,
   "metadata": {},
   "outputs": [],
   "source": [
    "#Function for calculating the Gini Impurity\n",
    "\n",
    "def GiniImpurity (values):\n",
    "    values = list(values)\n",
    "    GiniImp = 0\n",
    "    cat = np.unique(values)\n",
    "    total = len(values)\n",
    "    for i in cat:\n",
    "        p_i = values.count(i)/total\n",
    "        GiniImp = GiniImp + p_i * (1-p_i)\n",
    "    return(GiniImp)"
   ]
  },
  {
   "cell_type": "code",
   "execution_count": 9,
   "metadata": {},
   "outputs": [
    {
     "data": {
      "text/plain": [
       "0.5342"
      ]
     },
     "execution_count": 9,
     "metadata": {},
     "output_type": "execute_result"
    }
   ],
   "source": [
    "GiniImpurity(df['category'])"
   ]
  },
  {
   "cell_type": "code",
   "execution_count": 10,
   "metadata": {},
   "outputs": [],
   "source": [
    "test = df.drop('category',axis=1)"
   ]
  },
  {
   "cell_type": "code",
   "execution_count": 11,
   "metadata": {},
   "outputs": [
    {
     "data": {
      "text/plain": [
       "3"
      ]
     },
     "execution_count": 11,
     "metadata": {},
     "output_type": "execute_result"
    }
   ],
   "source": [
    "len(df.columns)"
   ]
  },
  {
   "cell_type": "code",
   "execution_count": 12,
   "metadata": {},
   "outputs": [],
   "source": [
    "#Function for finding the gini impurity for every two-way split of a sorted list of categorical data\n",
    "\n",
    "def FindGiniImpurityList(list):\n",
    "    WeightedGiniImpurityList = []\n",
    "    nr_of_data_points = len(list)\n",
    "    for i in range(1,nr_of_data_points):\n",
    "        A = list[0:i]\n",
    "        B = list[i:nr_of_data_points]\n",
    "        WeightedGiniImpurity = (GiniImpurity(A) * len(A) + GiniImpurity(B) * len(B))/nr_of_data_points\n",
    "        WeightedGiniImpurityList.append(WeightedGiniImpurity)\n",
    "    return(WeightedGiniImpurityList)\n",
    "\n",
    "\n",
    "#Function for finding the best possible split. \n",
    "#Return the variable v (x or y), threshold h: v<=h and gini impurity for split v<=h.\n",
    "\n",
    "def FindBestSplit (data,cat):\n",
    "    nr_of_data_points = len(data)\n",
    "    \n",
    "    #find columns minus 'cat' from data\n",
    "    variables = data.drop(cat,axis=1).columns\n",
    "    \n",
    "    MinGiniList = list(range(len(variables)))\n",
    "    bestList = list(range(len(variables)))\n",
    "    c = 0\n",
    "    \n",
    "    for i in variables:\n",
    "        #create lists of category sorted by each variable except 'cat'\n",
    "        sortby = list(data.sort_values(i)[cat])\n",
    "        #create sorted lists of variables\n",
    "        sortedlist = list(data.sort_values(i)[i])\n",
    "        #create lists of GiniImpurity\n",
    "        WeightedGiniImpurity = np.asarray(FindGiniImpurityList(sortby))\n",
    "        #find the minimum gini impurity (and its argument)\n",
    "        argmin = WeightedGiniImpurity.argmin()\n",
    "        MinGini = WeightedGiniImpurity[argmin]\n",
    "        #find the best threshold for the variable\n",
    "        best = sortedlist[argmin]\n",
    "        \n",
    "        MinGiniList[c] = MinGini\n",
    "        bestList[c] = best\n",
    "        c = c + 1\n",
    "        \n",
    "        \n",
    "    #min_variable = argmin(MinGiniList)\n",
    "    min_variable = MinGiniList.index(min(MinGiniList))\n",
    "    return([variables[min_variable],bestList[min_variable],MinGiniList[min_variable]])\n",
    "    \n",
    "    "
   ]
  },
  {
   "cell_type": "code",
   "execution_count": 13,
   "metadata": {},
   "outputs": [
    {
     "data": {
      "text/plain": [
       "['x', 2.9664976845831084, 0.2248611111111111]"
      ]
     },
     "execution_count": 13,
     "metadata": {},
     "output_type": "execute_result"
    }
   ],
   "source": [
    "FindBestSplit(df,'category')"
   ]
  },
  {
   "cell_type": "code",
   "execution_count": 14,
   "metadata": {},
   "outputs": [],
   "source": [
    "#Iterative function for generating a decision tree using a greedy algorith based on the Gini Impurity\n",
    "\n",
    "def split (data,depth,cat):\n",
    "    if len(data.category.value_counts()) ==1:\n",
    "        return list(data['category'])[0]\n",
    "    else:\n",
    "        bestSplit = FindBestSplit(data,cat)\n",
    "        left = data[data[bestSplit[0]] <= bestSplit[1]]\n",
    "        left_return = split(left,depth+1,cat)\n",
    "        right = data[data[bestSplit[0]] > bestSplit[1]]\n",
    "        right_return = split(right,depth+1,cat)\n",
    "        return([[bestSplit[0],bestSplit[1]],[left_return,right_return]])\n",
    "    "
   ]
  },
  {
   "cell_type": "code",
   "execution_count": 15,
   "metadata": {},
   "outputs": [],
   "source": [
    "decisionTree1 = split(df,0,'category')"
   ]
  },
  {
   "cell_type": "code",
   "execution_count": 16,
   "metadata": {},
   "outputs": [
    {
     "name": "stdout",
     "output_type": "stream",
     "text": [
      "['x', 2.9664976845831084, 0.2248611111111111]\n"
     ]
    },
    {
     "data": {
      "text/plain": [
       "[['x', 2.9664976845831084],\n",
       " [[['y', -2.6097340697970473], ['C', [['x', 2.1622569212039284], ['A', 'B']]]],\n",
       "  [['y', -4.654336483330174], ['C', 'B']]]]"
      ]
     },
     "execution_count": 16,
     "metadata": {},
     "output_type": "execute_result"
    }
   ],
   "source": [
    "print(FindBestSplit(df,'category'))\n",
    "decisionTree1"
   ]
  },
  {
   "cell_type": "code",
   "execution_count": 23,
   "metadata": {},
   "outputs": [],
   "source": [
    "#Function for classifying data based on a decision tree\n",
    "\n",
    "def classify (data, tree):\n",
    "    if len(tree[0])==1:\n",
    "        output = data.copy()\n",
    "        output['category'] = tree[0]\n",
    "    else:\n",
    "        var = tree[0][0]\n",
    "        val = tree[0][1]\n",
    "        left_data = data[data[var]<=val]\n",
    "        right_data = data[data[var]>val]\n",
    "        left_output = classify(left_data,tree[1][0])\n",
    "        right_output = classify(right_data,tree[1][1])\n",
    "        merged = pd.concat([left_output,right_output])\n",
    "        output = merged.sort_index()\n",
    "    return(output)\n",
    "        \n",
    "    "
   ]
  },
  {
   "cell_type": "code",
   "execution_count": 24,
   "metadata": {},
   "outputs": [],
   "source": [
    "test_df = df[['x','y']]\n",
    "generated_df = classify(test_df,decisionTree1)"
   ]
  },
  {
   "cell_type": "code",
   "execution_count": 25,
   "metadata": {},
   "outputs": [
    {
     "data": {
      "text/plain": [
       "True"
      ]
     },
     "execution_count": 25,
     "metadata": {},
     "output_type": "execute_result"
    }
   ],
   "source": [
    "(generated_df == df)['category'].eq(True).all()"
   ]
  },
  {
   "cell_type": "code",
   "execution_count": 26,
   "metadata": {},
   "outputs": [],
   "source": [
    "#generate another set of data to test prediciton of the algorithm\n",
    "\n",
    "df2 = pd.DataFrame([], columns = ['x', 'y','category']) \n",
    "\n",
    "for i in range(100):\n",
    "    draw = draw_cat(F)\n",
    "    mean = u[Pdict[draw]]\n",
    "    sigma = o[Pdict[draw]]\n",
    "    x = np.random.normal(mean[0],sigma[0])\n",
    "    y = np.random.normal(mean[1],sigma[1])\n",
    "    df2.loc[i] = [x,y,draw]"
   ]
  },
  {
   "cell_type": "code",
   "execution_count": 27,
   "metadata": {},
   "outputs": [],
   "source": [
    "test_df2 = df2[['x','y']]\n",
    "generated_df2 = classify(test_df2,decisionTree1)"
   ]
  },
  {
   "cell_type": "code",
   "execution_count": 28,
   "metadata": {},
   "outputs": [
    {
     "data": {
      "text/plain": [
       "0.96"
      ]
     },
     "execution_count": 28,
     "metadata": {},
     "output_type": "execute_result"
    }
   ],
   "source": [
    "#fraction of succesful predictions\n",
    "sum(generated_df2['category'] == df2['category'])/100"
   ]
  },
  {
   "cell_type": "code",
   "execution_count": null,
   "metadata": {},
   "outputs": [],
   "source": []
  },
  {
   "cell_type": "code",
   "execution_count": null,
   "metadata": {},
   "outputs": [],
   "source": []
  }
 ],
 "metadata": {
  "kernelspec": {
   "display_name": "Python 3",
   "language": "python",
   "name": "python3"
  },
  "language_info": {
   "codemirror_mode": {
    "name": "ipython",
    "version": 3
   },
   "file_extension": ".py",
   "mimetype": "text/x-python",
   "name": "python",
   "nbconvert_exporter": "python",
   "pygments_lexer": "ipython3",
   "version": "3.7.3"
  }
 },
 "nbformat": 4,
 "nbformat_minor": 2
}
