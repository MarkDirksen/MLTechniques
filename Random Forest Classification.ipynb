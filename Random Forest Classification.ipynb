{
 "cells": [
  {
   "cell_type": "markdown",
   "metadata": {},
   "source": [
    "A random forest is a composistion of decision trees. A decision tree is what it sounds like. Each node can be split into further nodes based on some criteria. Ideally each leaf node would give certainty about the catagory of the dependent variable.\n",
    "\n",
    "We will start by creating an algorithm for training decision trees. First we will generate some test data. Let there be three different categories: A, B and C. These are distributed based on the continuous variables x and y. Let them be bivariate normally distributed as such:\n",
    "\n",
    "A ~ N(u_A,o_A)\n",
    "\n",
    "B ~ N(u_B,o_B)\n",
    "\n",
    "C ~ N(u_C,o_C)\n",
    "\n",
    "Where u_i is a two-dimensional vector representing the mean and o_i is the covariance matrix. Both of category i. For simplicicty I will assume x and y are independent draws, i.e. the covariance between x and y is zero. Thus the x and y coordinate can be independetly drawn from a normal distribution.\n",
    "\n",
    "I'm assuming each category has a probability of being generated: f_i. With F_A + F_B + F_C = 1.\n",
    "\n",
    "Of course, other ways of gernerating test data are possible. Or other data sets can be used that are generated in an unknown manner."
   ]
  },
  {
   "cell_type": "code",
   "execution_count": 1,
   "metadata": {},
   "outputs": [],
   "source": [
    "import numpy as np\n",
    "import random\n",
    "import pandas as pd"
   ]
  },
  {
   "cell_type": "code",
   "execution_count": 2,
   "metadata": {},
   "outputs": [],
   "source": [
    "#Number of draws\n",
    "N = 100\n",
    "\n",
    "#categories\n",
    "cat = ['A', 'B', 'C']\n",
    "\n",
    "# frequencies of categories\n",
    "F_A = .2\n",
    "F_B = .5\n",
    "F_C = .3\n",
    "F = [F_A, F_B, F_C]\n",
    "\n",
    "#means\n",
    "u_A = [1,3]\n",
    "u_B = [5,3]\n",
    "u_C = [2,-5]\n",
    "u=[u_A, u_B, u_C]\n",
    "\n",
    "#standard deviations\n",
    "o_A = [1,1]\n",
    "o_B = [1,1]\n",
    "o_C = [1,1]\n",
    "o=[o_A, o_B, o_C]\n",
    "\n",
    "#dictionary\n",
    "Pdict = {\"A\":0,\"B\":1,\"C\":2}"
   ]
  },
  {
   "cell_type": "code",
   "execution_count": 3,
   "metadata": {},
   "outputs": [],
   "source": [
    "#Function for randomly generating / drawing a category\n",
    "\n",
    "def draw_cat(F):\n",
    "    r = random.uniform(0,1)\n",
    "    for i in range(len(F)):\n",
    "        if r < np.cumsum(F)[i]:\n",
    "            c = cat[i]\n",
    "            break\n",
    "    return c"
   ]
  },
  {
   "cell_type": "code",
   "execution_count": 4,
   "metadata": {},
   "outputs": [],
   "source": [
    "df = pd.DataFrame([], columns = ['x', 'y','category']) \n",
    "\n",
    "for i in range(100):\n",
    "    draw = draw_cat(F)\n",
    "    mean = u[Pdict[draw]]\n",
    "    sigma = o[Pdict[draw]]\n",
    "    x = np.random.normal(mean[0],sigma[0])\n",
    "    y = np.random.normal(mean[1],sigma[1])\n",
    "    df.loc[i] = [x,y,draw]\n",
    "\n"
   ]
  },
  {
   "cell_type": "code",
   "execution_count": 7,
   "metadata": {},
   "outputs": [
    {
     "data": {
      "text/html": [
       "<div>\n",
       "<style scoped>\n",
       "    .dataframe tbody tr th:only-of-type {\n",
       "        vertical-align: middle;\n",
       "    }\n",
       "\n",
       "    .dataframe tbody tr th {\n",
       "        vertical-align: top;\n",
       "    }\n",
       "\n",
       "    .dataframe thead th {\n",
       "        text-align: right;\n",
       "    }\n",
       "</style>\n",
       "<table border=\"1\" class=\"dataframe\">\n",
       "  <thead>\n",
       "    <tr style=\"text-align: right;\">\n",
       "      <th></th>\n",
       "      <th>x</th>\n",
       "      <th>y</th>\n",
       "      <th>category</th>\n",
       "    </tr>\n",
       "  </thead>\n",
       "  <tbody>\n",
       "    <tr>\n",
       "      <th>0</th>\n",
       "      <td>4.651395</td>\n",
       "      <td>2.553404</td>\n",
       "      <td>B</td>\n",
       "    </tr>\n",
       "    <tr>\n",
       "      <th>1</th>\n",
       "      <td>4.564797</td>\n",
       "      <td>4.380188</td>\n",
       "      <td>B</td>\n",
       "    </tr>\n",
       "    <tr>\n",
       "      <th>2</th>\n",
       "      <td>0.534660</td>\n",
       "      <td>2.882527</td>\n",
       "      <td>A</td>\n",
       "    </tr>\n",
       "    <tr>\n",
       "      <th>3</th>\n",
       "      <td>4.918864</td>\n",
       "      <td>3.426045</td>\n",
       "      <td>B</td>\n",
       "    </tr>\n",
       "    <tr>\n",
       "      <th>4</th>\n",
       "      <td>5.924586</td>\n",
       "      <td>3.408330</td>\n",
       "      <td>B</td>\n",
       "    </tr>\n",
       "  </tbody>\n",
       "</table>\n",
       "</div>"
      ],
      "text/plain": [
       "          x         y category\n",
       "0  4.651395  2.553404        B\n",
       "1  4.564797  4.380188        B\n",
       "2  0.534660  2.882527        A\n",
       "3  4.918864  3.426045        B\n",
       "4  5.924586  3.408330        B"
      ]
     },
     "execution_count": 7,
     "metadata": {},
     "output_type": "execute_result"
    }
   ],
   "source": [
    "df.head()"
   ]
  },
  {
   "cell_type": "code",
   "execution_count": 6,
   "metadata": {},
   "outputs": [],
   "source": [
    "import matplotlib.pyplot as plt\n",
    "import seaborn as sns\n",
    "%matplotlib inline"
   ]
  },
  {
   "cell_type": "code",
   "execution_count": 8,
   "metadata": {},
   "outputs": [
    {
     "data": {
      "image/png": "[encoded data removed]",
      "text/plain": [
       "<Figure size 412x360 with 1 Axes>"
      ]
     },
     "metadata": {
      "needs_background": "light"
     },
     "output_type": "display_data"
    }
   ],
   "source": [
    "vis = sns.lmplot(data = df, x= 'x',y = 'y' , fit_reg=False , hue = 'category')"
   ]
  },
  {
   "cell_type": "code",
   "execution_count": null,
   "metadata": {},
   "outputs": [],
   "source": []
  }
 ],
 "metadata": {
  "kernelspec": {
   "display_name": "Python 3",
   "language": "python",
   "name": "python3"
  },
  "language_info": {
   "codemirror_mode": {
    "name": "ipython",
    "version": 3
   },
   "file_extension": ".py",
   "mimetype": "text/x-python",
   "name": "python",
   "nbconvert_exporter": "python",
   "pygments_lexer": "ipython3",
   "version": "3.7.3"
  }
 },
 "nbformat": 4,
 "nbformat_minor": 2
}
